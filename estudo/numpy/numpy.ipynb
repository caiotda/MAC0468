{
 "cells": [
  {
   "cell_type": "markdown",
   "metadata": {},
   "source": [
    "\n",
    "O que é o numpy?\n",
    "\n",
    "\n",
    "Biblioteca para armazenar vetores de n dimensões e realizar operações matemáticas\n",
    "sobre essas estruturas de dados\n",
    "\n",
    "numpy x listas\n",
    "\n",
    "As listas python são mais lentas que arrays numpy.\n",
    "\n",
    "Aplicações do numpy\n",
    "\n",
    "* Computação científica.\n",
    "* Machine learning\n",
    "\n",
    "Numpy é mais rapido porque:\n",
    "    1) Os tipos são fixos no numpy, enquanto que no python cada item pode ter um\n",
    "    tipo diferentes. Vamos analisar um tipo inteiro: para o numpy, o tipo inteiro\n",
    "    é aquele classicão de c: vc tem uma quantidade de bits e só isso é armazenado\n",
    "\n",
    "    Para python, o tipo number possui uns 4 campos, e cada campo é um long.\n",
    "    Então no fim do dia, cada item numa lista ocupa mais espaço que itens no numpy.\n",
    "    Assim, o numpy lê e escreve mais rapida\n",
    "\n",
    "    2) Numpy usa memória contigua: listas em  python na verdade são listas ligadas,\n",
    "    então a leitura de uma lista de tamanho n é O(n). Em numpy, é O(1).\n",
    "\n",
    "\n",
    "Diferenças entre os dois: o numpy é um superset das listas: ele faz tudo que uma \n",
    "lista faz, mas um pouco mais: um exemplo é multiplicação de vetores:"
   ]
  },
  {
   "cell_type": "code",
   "execution_count": 36,
   "metadata": {},
   "outputs": [
    {
     "name": "stdout",
     "output_type": "stream",
     "text": [
      "[ 1  6 15]\n"
     ]
    }
   ],
   "source": [
    "import numpy as np\n",
    "\n",
    "a = np.array([1,3,5]) # inicialização de um objeto numpy\n",
    "b = np.array([1,2,3])\n",
    "c = a * b\n",
    "print(c) # A operação de multiplicação não vem implementada out of the box para lists"
   ]
  },
  {
   "cell_type": "code",
   "execution_count": 37,
   "metadata": {},
   "outputs": [
    {
     "name": "stdout",
     "output_type": "stream",
     "text": [
      "11\n",
      "[1 2 3 4 5 6 7]\n",
      "[2 4 6]\n",
      "[[ 1  2  3  4  5  6  7]\n",
      " [ 8  9 10 11 12 13 14]]\n",
      "[[ 1  2  1  4  5  6  7]\n",
      " [ 8  9  3 11 12 13 14]]\n"
     ]
    }
   ],
   "source": [
    "\n",
    "a = np.array([[1,2,3,4,5,6,7], [8,9,10, 11,12,13,14]]) # 2x7\n",
    "print(a[1,3])\n",
    "\n",
    "# Pegar uma coluna especifica:\n",
    "\n",
    "print(a[0, :])\n",
    "\n",
    "# Pegar elementos partindo de um indice inicial até um indice final, e especificando\n",
    "# os passos\n",
    "\n",
    "print(a[0, 1:6:2]) #Pegue a primeira linha. Então, acesse os elementos correspondentes partindo do indice 1 até o indice 6, dando passos de 2 em 2.\n",
    "\n",
    "# escrita:\n",
    "\n",
    "a[0,0] = 1\n",
    "print(a)\n",
    "a[:, 2] = [1,3]\n",
    "print(a)\n"
   ]
  },
  {
   "cell_type": "markdown",
   "metadata": {},
   "source": [
    "Se quisermos trabalhar com arrays em 3d, é similar:"
   ]
  },
  {
   "cell_type": "code",
   "execution_count": 38,
   "metadata": {},
   "outputs": [
    {
     "name": "stdout",
     "output_type": "stream",
     "text": [
      "[[[1 2]\n",
      "  [3 4]]\n",
      "\n",
      " [[5 6]\n",
      "  [7 8]]]\n"
     ]
    }
   ],
   "source": [
    "b = np.array([[[1,2], [3,4]], [[5,6], [7,8]]])\n",
    "print(b)"
   ]
  },
  {
   "cell_type": "code",
   "execution_count": 39,
   "metadata": {},
   "outputs": [
    {
     "data": {
      "text/plain": [
       "4"
      ]
     },
     "execution_count": 39,
     "metadata": {},
     "output_type": "execute_result"
    }
   ],
   "source": [
    "# Pegar elemento específico: vamos trabalhar de fora pra dentro:\n",
    "\n",
    "b[0,1,1]# Pegue um elemento do primeiro vetor. Nesse vetor,\n",
    "    #vamos selecionar o segundo vetor. Nesse segundo vetor, pegue o\n",
    "    # segundo item"
   ]
  },
  {
   "cell_type": "markdown",
   "metadata": {},
   "source": [
    "Para atribuição é a mesma coisa, basta garantir que estamos trabalhando nas mesmas dimensões.\n"
   ]
  },
  {
   "cell_type": "markdown",
   "metadata": {},
   "source": [
    "## inicializando diferentes tipos de array"
   ]
  },
  {
   "cell_type": "code",
   "execution_count": 40,
   "metadata": {},
   "outputs": [
    {
     "name": "stdout",
     "output_type": "stream",
     "text": [
      "[[[0. 0. 0. 0. 0.]\n",
      "  [0. 0. 0. 0. 0.]\n",
      "  [0. 0. 0. 0. 0.]]\n",
      "\n",
      " [[0. 0. 0. 0. 0.]\n",
      "  [0. 0. 0. 0. 0.]\n",
      "  [0. 0. 0. 0. 0.]]]\n"
     ]
    }
   ],
   "source": [
    "# Todos 0s\n",
    "\n",
    "zeros = np.zeros((2,3,5)) #aceita um shape\n",
    "\n",
    "print(zeros)"
   ]
  },
  {
   "cell_type": "code",
   "execution_count": 41,
   "metadata": {},
   "outputs": [
    {
     "name": "stdout",
     "output_type": "stream",
     "text": [
      "[[1. 1.]\n",
      " [1. 1.]\n",
      " [1. 1.]\n",
      " [1. 1.]\n",
      " [1. 1.]]\n"
     ]
    }
   ],
   "source": [
    "# Todos 1s\n",
    "\n",
    "ones = np.ones((5,2))\n",
    "print(ones)"
   ]
  },
  {
   "cell_type": "code",
   "execution_count": 42,
   "metadata": {},
   "outputs": [
    {
     "name": "stdout",
     "output_type": "stream",
     "text": [
      "[[9 9]\n",
      " [9 9]]\n"
     ]
    }
   ],
   "source": [
    "# Com qualquer número\n",
    "\n",
    "full = np.full((2,2), 9) # Aceita um shape e um valor inicial\n",
    "print(full)"
   ]
  },
  {
   "cell_type": "code",
   "execution_count": 43,
   "metadata": {},
   "outputs": [
    {
     "name": "stdout",
     "output_type": "stream",
     "text": [
      "[[4 4 4 4 4 4 4]\n",
      " [4 4 4 4 4 4 4]]\n"
     ]
    }
   ],
   "source": [
    "# preencher array ja existente com algum valor\n",
    "\n",
    "reciclado = np.full_like(a, 4)\n",
    "print(reciclado)"
   ]
  },
  {
   "cell_type": "code",
   "execution_count": 44,
   "metadata": {},
   "outputs": [
    {
     "name": "stdout",
     "output_type": "stream",
     "text": [
      "[[0.32962478 0.20429941]\n",
      " [0.89411968 0.73551668]\n",
      " [0.67447886 0.73013566]\n",
      " [0.78694123 0.42943883]]\n"
     ]
    }
   ],
   "source": [
    "# Numeros aleatorios (util pra SGD)\n",
    "\n",
    "rnd = np.random.rand(4,2) #api estranha.\n",
    "print(rnd)"
   ]
  },
  {
   "cell_type": "code",
   "execution_count": 45,
   "metadata": {},
   "outputs": [
    {
     "data": {
      "text/plain": [
       "array([[2, 3, 4],\n",
       "       [3, 1, 6],\n",
       "       [6, 4, 0]])"
      ]
     },
     "execution_count": 45,
     "metadata": {},
     "output_type": "execute_result"
    }
   ],
   "source": [
    "# Com inteiros aleatorios\n",
    "# Passa o inteiro inicial e final\n",
    "np.random.randint(7, size=(3,3))\n",
    "#api estranha again: isso é um shape, não um size"
   ]
  },
  {
   "cell_type": "markdown",
   "metadata": {},
   "source": [
    " ## Matemática no np"
   ]
  },
  {
   "cell_type": "markdown",
   "metadata": {},
   "source": [
    "No np, podemos realizar operações de algebra linear tranquilamete, com algumas facilitações"
   ]
  },
  {
   "cell_type": "code",
   "execution_count": 47,
   "metadata": {},
   "outputs": [
    {
     "name": "stdout",
     "output_type": "stream",
     "text": [
      "[3 4 5]\n",
      "[3 4 5]\n",
      "[10 20 30]\n"
     ]
    },
    {
     "data": {
      "text/plain": [
       "array([1, 4, 9])"
      ]
     },
     "execution_count": 47,
     "metadata": {},
     "output_type": "execute_result"
    }
   ],
   "source": [
    "# Se quisermos somar 2 elementos na matriz inteira, na algebra linear\n",
    "# fariamos isso:\n",
    "\n",
    "a = np.array([1,2,3])\n",
    "b = np.full(3,2)\n",
    "print(a+b)\n",
    "\n",
    "# Mas o numpy tem um atalho pra isso\n",
    "\n",
    "print(a + 2)\n",
    "\n",
    "# E isso vale pra toda operação. O numpy faz a operação element-wise:\n",
    "\n",
    "print(a * 10)\n",
    "a**2"
   ]
  },
  {
   "cell_type": "markdown",
   "metadata": {},
   "source": [
    "## Algebra linear no np"
   ]
  },
  {
   "cell_type": "code",
   "execution_count": 52,
   "metadata": {},
   "outputs": [
    {
     "name": "stdout",
     "output_type": "stream",
     "text": [
      "[[1. 1. 1.]\n",
      " [1. 1. 1.]]\n",
      "[[2 2]\n",
      " [2 2]\n",
      " [2 2]]\n"
     ]
    },
    {
     "data": {
      "text/plain": [
       "array([[6., 6.],\n",
       "       [6., 6.]])"
      ]
     },
     "execution_count": 52,
     "metadata": {},
     "output_type": "execute_result"
    }
   ],
   "source": [
    "# Multiplicação\n",
    "\n",
    "a = np.ones((2,3))\n",
    "print(a)\n",
    "\n",
    "b = np.full((3,2), 2)\n",
    "print(b)\n",
    "# Fazer a * b não funciona, o np espera dois elementos com mesmo tamanho\n",
    "np.matmul(a,b)"
   ]
  },
  {
   "cell_type": "code",
   "execution_count": 53,
   "metadata": {},
   "outputs": [
    {
     "data": {
      "text/plain": [
       "1.0"
      ]
     },
     "execution_count": 53,
     "metadata": {},
     "output_type": "execute_result"
    }
   ],
   "source": [
    "# Determinante\n",
    "c = np.identity(3)\n",
    "np.linalg.det(c)"
   ]
  },
  {
   "cell_type": "markdown",
   "metadata": {},
   "source": [
    "## Estatística no np"
   ]
  },
  {
   "cell_type": "code",
   "execution_count": 55,
   "metadata": {},
   "outputs": [],
   "source": [
    "stats = np.array([[1,2,3], [4,5,6]])"
   ]
  },
  {
   "cell_type": "code",
   "execution_count": 56,
   "metadata": {},
   "outputs": [
    {
     "data": {
      "text/plain": [
       "6"
      ]
     },
     "execution_count": 56,
     "metadata": {},
     "output_type": "execute_result"
    }
   ],
   "source": [
    "np.max(stats)"
   ]
  },
  {
   "cell_type": "code",
   "execution_count": 57,
   "metadata": {},
   "outputs": [
    {
     "data": {
      "text/plain": [
       "1"
      ]
     },
     "execution_count": 57,
     "metadata": {},
     "output_type": "execute_result"
    }
   ],
   "source": [
    "np.min(stats) "
   ]
  },
  {
   "cell_type": "code",
   "execution_count": 58,
   "metadata": {},
   "outputs": [
    {
     "data": {
      "text/plain": [
       "21"
      ]
     },
     "execution_count": 58,
     "metadata": {},
     "output_type": "execute_result"
    }
   ],
   "source": [
    "np.sum(stats)"
   ]
  },
  {
   "cell_type": "markdown",
   "metadata": {},
   "source": [
    "## Reorganizando arrays"
   ]
  },
  {
   "cell_type": "code",
   "execution_count": 61,
   "metadata": {},
   "outputs": [
    {
     "name": "stdout",
     "output_type": "stream",
     "text": [
      "(2, 4)\n",
      "[[1 2 3 4]\n",
      " [5 6 7 8]]\n",
      "[[1]\n",
      " [2]\n",
      " [3]\n",
      " [4]\n",
      " [5]\n",
      " [6]\n",
      " [7]\n",
      " [8]]\n",
      "(8, 1)\n"
     ]
    }
   ],
   "source": [
    "antes = np.array([[1,2,3,4], [5,6,7,8]])\n",
    "print(antes.shape)\n",
    "print(antes)\n",
    "# Transforma em um 8x1\n",
    "\n",
    "depois = antes.reshape((8,1)) #AS novas dimensoes devem ser multiplas da orignial\n",
    "print(depois)\n",
    " print(depois.shape)"
   ]
  },
  {
   "cell_type": "markdown",
   "metadata": {},
   "source": [
    "## Transformando e indexando com booleanos"
   ]
  },
  {
   "cell_type": "code",
   "execution_count": 68,
   "metadata": {},
   "outputs": [
    {
     "name": "stdout",
     "output_type": "stream",
     "text": [
      "[[False  True  True]\n",
      " [False  True  True]]\n",
      "[59.29722437 60.57038181 50.94321746 52.43768203]\n"
     ]
    }
   ],
   "source": [
    "# Podemos usar valores booleanos para transformar nosso aray:\n",
    "\n",
    "rand = np.random.rand(2,3) * 100\n",
    "rand_novo  = rand > 50\n",
    "print(rand_novo) # mostre aonde é verdadeiro\n",
    "print(rand[rand > 50]) # Mostre os itens aonde a condição é verdadeira"
   ]
  },
  {
   "cell_type": "markdown",
   "metadata": {},
   "source": [
    "## Indexando com listas"
   ]
  },
  {
   "cell_type": "code",
   "execution_count": 69,
   "metadata": {},
   "outputs": [
    {
     "data": {
      "text/plain": [
       "array([2, 3, 9])"
      ]
     },
     "execution_count": 69,
     "metadata": {},
     "output_type": "execute_result"
    }
   ],
   "source": [
    "a = np.array([1,2,3,4,5,6,7,8,9])\n",
    "a[[1,2,8]] # Pegue os itens com esses indices"
   ]
  },
  {
   "cell_type": "markdown",
   "metadata": {},
   "source": [
    "### Exercicios"
   ]
  },
  {
   "cell_type": "code",
   "execution_count": 82,
   "metadata": {},
   "outputs": [
    {
     "data": {
      "text/plain": [
       "array([[ 1,  2,  3,  4,  5],\n",
       "       [ 6,  7,  8,  9, 10],\n",
       "       [11, 12, 13, 14, 15],\n",
       "       [16, 17, 18, 19, 20],\n",
       "       [21, 22, 23, 24, 25],\n",
       "       [26, 27, 28, 29, 30]])"
      ]
     },
     "execution_count": 82,
     "metadata": {},
     "output_type": "execute_result"
    }
   ],
   "source": [
    "p = np.array([[1,2,3,4,5],\\\n",
    "               [6,7,8,9,10],\\\n",
    "               [11,12,13,14,15],\\\n",
    "               [16,17,18,19,20],\\\n",
    "               [21,22,23,24,25],\\\n",
    "               [26,27,28,29,30]])\n",
    "p"
   ]
  },
  {
   "cell_type": "code",
   "execution_count": 83,
   "metadata": {},
   "outputs": [
    {
     "data": {
      "text/plain": [
       "array([[11, 12],\n",
       "       [16, 17]])"
      ]
     },
     "execution_count": 83,
     "metadata": {},
     "output_type": "execute_result"
    }
   ],
   "source": [
    "p[2:4, 0:2]"
   ]
  },
  {
   "cell_type": "code",
   "execution_count": 86,
   "metadata": {},
   "outputs": [
    {
     "data": {
      "text/plain": [
       "array([ 2,  8, 14, 20])"
      ]
     },
     "execution_count": 86,
     "metadata": {},
     "output_type": "execute_result"
    }
   ],
   "source": [
    "p[[0,1,2,3], [1,2,3,4]]"
   ]
  },
  {
   "cell_type": "code",
   "execution_count": 113,
   "metadata": {},
   "outputs": [
    {
     "data": {
      "text/plain": [
       "array([[ 4,  5],\n",
       "       [24, 25],\n",
       "       [29, 30]])"
      ]
     },
     "execution_count": 113,
     "metadata": {},
     "output_type": "execute_result"
    }
   ],
   "source": [
    "p[[0,-2,-1], 3:]"
   ]
  },
  {
   "cell_type": "code",
   "execution_count": 112,
   "metadata": {},
   "outputs": [
    {
     "data": {
      "text/plain": [
       "array([ 1, 22, 26])"
      ]
     },
     "execution_count": 112,
     "metadata": {},
     "output_type": "execute_result"
    }
   ],
   "source": [
    "p[[0,-2,-1], [0, 1, 0]]"
   ]
  },
  {
   "cell_type": "code",
   "execution_count": null,
   "metadata": {},
   "outputs": [],
   "source": []
  }
 ],
 "metadata": {
  "kernelspec": {
   "display_name": "Python 3",
   "language": "python",
   "name": "python3"
  },
  "language_info": {
   "codemirror_mode": {
    "name": "ipython",
    "version": 3
   },
   "file_extension": ".py",
   "mimetype": "text/x-python",
   "name": "python",
   "nbconvert_exporter": "python",
   "pygments_lexer": "ipython3",
   "version": "3.8.2"
  }
 },
 "nbformat": 4,
 "nbformat_minor": 4
}
