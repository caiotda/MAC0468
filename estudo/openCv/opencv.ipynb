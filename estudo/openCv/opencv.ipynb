{
 "cells": [
  {
   "cell_type": "markdown",
   "metadata": {},
   "source": [
    "## Open cv - python"
   ]
  },
  {
   "cell_type": "markdown",
   "metadata": {},
   "source": [
    "### Comandos de entrada\n",
    "\n",
    "* imread(file_name): recebe o nome de um arquivo (file_name)\n",
    "* imgwrite(file_name, cvimg): salva uma imagem do open cv no arquivo especificado\n",
    "    * vamos adotar imagens .png como formato de imagens sendo salvas. Adotamos o png porque esse arquivo é lossless. Isto é, o esquema de compressão não tem perda\n",
    "* imshow(window_name, cvimg): mostra a imagem cvimg na janela window_name\n",
    "\n",
    "O open Cv é capaz de ler varios formatos de imagem "
   ]
  },
  {
   "cell_type": "code",
   "execution_count": 2,
   "metadata": {},
   "outputs": [
    {
     "name": "stdout",
     "output_type": "stream",
     "text": [
      "4.4.0\n"
     ]
    }
   ],
   "source": [
    "import cv2 as cv\n",
    "print(cv.__version__)"
   ]
  },
  {
   "cell_type": "code",
   "execution_count": 3,
   "metadata": {},
   "outputs": [
    {
     "name": "stdout",
     "output_type": "stream",
     "text": [
      "[[[ 39  43  44]\n",
      "  [ 42  46  47]\n",
      "  [ 44  47  52]\n",
      "  ...\n",
      "  [ 57  55  55]\n",
      "  [ 55  53  53]\n",
      "  [ 52  50  50]]\n",
      "\n",
      " [[ 37  40  44]\n",
      "  [ 42  45  49]\n",
      "  [ 46  49  54]\n",
      "  ...\n",
      "  [ 62  60  60]\n",
      "  [ 60  58  58]\n",
      "  [ 57  55  55]]\n",
      "\n",
      " [[ 41  45  50]\n",
      "  [ 46  50  55]\n",
      "  [ 51  55  60]\n",
      "  ...\n",
      "  [ 64  63  65]\n",
      "  [ 63  62  64]\n",
      "  [ 60  59  61]]\n",
      "\n",
      " ...\n",
      "\n",
      " [[ 56 143  99]\n",
      "  [ 48 133  89]\n",
      "  [ 49 129  86]\n",
      "  ...\n",
      "  [ 60 134  92]\n",
      "  [ 63 134  94]\n",
      "  [ 73 145 103]]\n",
      "\n",
      " [[ 54 138  96]\n",
      "  [ 59 141  99]\n",
      "  [ 50 130  87]\n",
      "  ...\n",
      "  [ 56 132  91]\n",
      "  [ 69 142 104]\n",
      "  [ 64 137  97]]\n",
      "\n",
      " [[ 45 129  87]\n",
      "  [ 58 140  98]\n",
      "  [ 71 151 108]\n",
      "  ...\n",
      "  [ 49 124  86]\n",
      "  [ 52 125  87]\n",
      "  [ 51 124  86]]]\n"
     ]
    }
   ],
   "source": [
    "img = cv.imread('messi.png')\n",
    "if img is None:\n",
    "    print(\"Não achei a imagem\")\n",
    "else:\n",
    "    cv.imshow(\"Janela1\", img)\n",
    "    cv.imwrite('messi_cv.jpg', img)"
   ]
  },
  {
   "cell_type": "code",
   "execution_count": null,
   "metadata": {},
   "outputs": [],
   "source": []
  }
 ],
 "metadata": {
  "kernelspec": {
   "display_name": "Python 3",
   "language": "python",
   "name": "python3"
  },
  "language_info": {
   "codemirror_mode": {
    "name": "ipython",
    "version": 3
   },
   "file_extension": ".py",
   "mimetype": "text/x-python",
   "name": "python",
   "nbconvert_exporter": "python",
   "pygments_lexer": "ipython3",
   "version": "3.8.2"
  }
 },
 "nbformat": 4,
 "nbformat_minor": 4
}
